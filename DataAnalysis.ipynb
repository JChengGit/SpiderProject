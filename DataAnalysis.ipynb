{
 "cells": [
  {
   "cell_type": "code",
   "execution_count": null,
   "metadata": {},
   "outputs": [],
   "source": [
    "\n",
    "加权打分排名\n",
    "学历 20% {'高中中专及以下', '大专', '本科', '硕士', '博士'}\n",
    "收入 30% {'2000～5000元 ', '10000～20000元 ', '-- ', '20000～50000元 ', '5000～10000元 ', '2000元以下 '}\n",
    "车 10% {'单位用车 ', '暂未购车 ', '需要时购置 ', '已购车（经济型） ', '-- ', '已经购车 ', '已购车（中档型） ', '已购车（豪华型） '}\n",
    "\n",
    "房 30% {'已购住房 ', '需要时购置 ', '独自租房 ', '-- ', '已购房（无贷款） ', '已购房（有贷款） ',\n",
    "       '与父母同住 ', '暂未购房 ', '住单位房 ', '住亲朋家 ', '与人合租 '}\n",
    "\n",
    "\n",
    "fun(年龄段) => 比例 of 有房，有车，工资分布\n",
    "\n",
    "\n",
    "\n"
   ]
  },
  {
   "cell_type": "code",
   "execution_count": 55,
   "metadata": {
    "scrolled": true
   },
   "outputs": [
    {
     "data": {
      "text/plain": [
       "{'2000元以下 ': [41, '4%'],\n",
       " '2000～5000元 ': [430, '43%'],\n",
       " '5000～10000元 ': [421, '42%'],\n",
       " '10000～20000元 ': [93, '9%'],\n",
       " '20000～50000元 ': [8, '1%'],\n",
       " '50000元以上 ': [2, '0%'],\n",
       " '无信息': [0, '0%']}"
      ]
     },
     "execution_count": 55,
     "metadata": {},
     "output_type": "execute_result"
    }
   ],
   "source": [
    "import json\n",
    "\n",
    "def read_data():\n",
    "    a = open('female.txt', encoding='UTF-8-sig')\n",
    "    b = a.read()\n",
    "    c = b.split('\\n')[:-1]\n",
    "    users = []\n",
    "    for i in c:\n",
    "        d = i.replace(\"'\",'\"').replace('\\\\','')\n",
    "        e = json.loads(d)\n",
    "        users.append(e)\n",
    "    return users\n",
    "\n",
    "def house_by_age(begin,end):\n",
    "    users = read_data()\n",
    "    count = {'已购住房 ':0, '需要时购置 ':0, '独自租房 ':0, '已购房（无贷款） ':0, '已购房（有贷款） ':0,\n",
    "             '与父母同住 ':0, '暂未购房 ':0, '住单位房 ':0, '住亲朋家 ':0, '与人合租 ':0, '-- ':0}\n",
    "    for i in users:\n",
    "        if begin <= int(i['age'][:2]) <= end:\n",
    "            count[i['住房：']] += 1\n",
    "            \n",
    "    count['无信息'] = count.pop('-- ')\n",
    "    total = sum(count.values())\n",
    "    distribution = {}\n",
    "    for key,value in count.items():\n",
    "        distribution[key] = [value, '%.0f%%'%(value/total*100)]\n",
    "    return distribution\n",
    "\n",
    "def car_by_age(begin,end):\n",
    "    users = read_data()\n",
    "    count = {'单位用车 ':0, '暂未购车 ':0, '需要时购置 ':0, '已购车（经济型） ':0, '已经购车 ':0,\n",
    "             '已购车（中档型） ':0, '已购车（豪华型） ':0, '-- ':0,}\n",
    "    for i in users:\n",
    "        if begin <= int(i['age'][:2]) <= end:\n",
    "            count[i['购车：']] += 1\n",
    "            \n",
    "    count['无信息'] = count.pop('-- ')\n",
    "    total = sum(count.values())\n",
    "    distribution = {}\n",
    "    for key,value in count.items():\n",
    "        distribution[key] = [value, '%.0f%%'%(value/total*100)]\n",
    "    return distribution\n",
    "\n",
    "def degree_by_age(begin,end):\n",
    "    users = read_data()\n",
    "    count = {'高中中专及以下':0, '大专':0, '本科':0, '硕士':0, '博士':0, '-- ':0,}\n",
    "    for i in users:\n",
    "        if begin <= int(i['age'][:2]) <= end:\n",
    "            count[i['学历：']] += 1\n",
    "            \n",
    "    count['无信息'] = count.pop('-- ')\n",
    "    total = sum(count.values())\n",
    "    distribution = {}\n",
    "    for key,value in count.items():\n",
    "        distribution[key] = [value, '%.0f%%'%(value/total*100)]\n",
    "\n",
    "def salary_by_age(begin,end):\n",
    "    users = read_data()\n",
    "    count = {'2000元以下 ':0, '2000～5000元 ':0, '5000～10000元 ':0, '10000～20000元 ':0,\n",
    "             '20000～50000元 ':0, '50000元以上 ':0, '-- ':0,}\n",
    "    for i in users:\n",
    "        if begin <= int(i['age'][:2]) <= end:\n",
    "            count[i['月薪：']] += 1\n",
    "            \n",
    "    count['无信息'] = count.pop('-- ')\n",
    "    total = sum(count.values())\n",
    "    distribution = {}\n",
    "    for key,value in count.items():\n",
    "        distribution[key] = [value, '%.0f%%'%(value/total*100)]\n",
    "    return distribution\n",
    "            \n",
    "salary_by_age(0,100)\n",
    "    \n",
    "    \n",
    "    \n",
    "    "
   ]
  },
  {
   "cell_type": "code",
   "execution_count": 56,
   "metadata": {
    "scrolled": false
   },
   "outputs": [
    {
     "name": "stdout",
     "output_type": "stream",
     "text": [
      "{'暂未购车 ', '需要时购置 ', '已购车（经济型） ', '-- ', '已经购车 ', '已购车（中档型） ', '已购车（豪华型） '}\n"
     ]
    }
   ],
   "source": [
    "import json\n",
    "\n",
    "f = open('female.txt', encoding='UTF-8-sig')\n",
    "st = f.read()\n",
    "a = st.split('\\n')[:-1]\n",
    "\n",
    "usersInfo = []\n",
    "degree = set()\n",
    "\n",
    "for i in a:\n",
    "    b = i.replace(\"'\",'\"').replace('\\\\','')\n",
    "    user = json.loads(b)\n",
    "    usersInfo.append(user)\n",
    "    degree.add(user['购车：'])\n",
    "\n",
    "print(degree)\n"
   ]
  },
  {
   "cell_type": "code",
   "execution_count": 2,
   "metadata": {
    "scrolled": true
   },
   "outputs": [
    {
     "name": "stdout",
     "output_type": "stream",
     "text": [
      "{'已购车（经济型） ': [723, '10%'], '暂未购车 ': [4362, '58%'], '已经购车 ': [443, '6%'], '已购车（中档型） ': [281, '4%'], '-- ': [1337, '18%'], '需要时购置 ': [192, '3%'], '已购车（豪华型） ': [122, '2%'], '单位用车 ': [25, '0%']}\n",
      "  已购车（经济型）  暂未购车  已经购车  已购车（中档型）    --  需要时购置  已购车（豪华型）  单位用车 \n",
      "0       723  4362   443       281  1337    192       122    25\n",
      "1       10%   58%    6%        4%   18%     3%        2%    0%\n"
     ]
    }
   ],
   "source": [
    "import json\n",
    "import pandas\n",
    "from pandas import DataFrame,Series\n",
    "\n",
    "\n",
    "def read_data():\n",
    "    a = open('female2.txt', encoding='UTF-8-sig')\n",
    "    b = a.read()\n",
    "    c = b.split('\\n')[:-1]\n",
    "    users = []\n",
    "    for i in c:\n",
    "        d = i.replace(\"'\", '\"').replace('\\\\', '')\n",
    "        e = json.loads(d)\n",
    "        users.append(e)\n",
    "    return users\n",
    "\n",
    "def result_by_any(by_str,result,begin, end):\n",
    "    users = read_data()\n",
    "    sets = list()\n",
    "    for i in users:\n",
    "        if begin <= int(i[by_str][:2]) <= end:\n",
    "            if i[result] not in sets:\n",
    "                sets.append(i[result])\n",
    "    count = dict.fromkeys(sets,0)\n",
    "    for i in users:\n",
    "        if begin <= int(i[by_str][:2]) <= end:\n",
    "            count[i[result]] += 1\n",
    "\n",
    "    # count['无信息'] = count.pop('-- ')\n",
    "    total = sum(count.values())\n",
    "    distribution = {}\n",
    "    for key, value in count.items():\n",
    "        distribution[key] = [value, '%.0f%%' % (value / total * 100)]\n",
    "    return distribution\n",
    "\n",
    "result = result_by_any('age','购车：',0,40)\n",
    "print(result)\n",
    "\n",
    "df = DataFrame(result)\n",
    "print(df)\n"
   ]
  }
 ],
 "metadata": {
  "kernelspec": {
   "display_name": "Python 3",
   "language": "python",
   "name": "python3"
  },
  "language_info": {
   "codemirror_mode": {
    "name": "ipython",
    "version": 3
   },
   "file_extension": ".py",
   "mimetype": "text/x-python",
   "name": "python",
   "nbconvert_exporter": "python",
   "pygments_lexer": "ipython3",
   "version": "3.6.4"
  }
 },
 "nbformat": 4,
 "nbformat_minor": 2
}
